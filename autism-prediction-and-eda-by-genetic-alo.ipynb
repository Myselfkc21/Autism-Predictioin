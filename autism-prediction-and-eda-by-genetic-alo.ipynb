{
 "cells": [
  {
   "cell_type": "markdown",
   "metadata": {},
   "source": [
    "# Autism"
   ]
  },
  {
   "cell_type": "markdown",
   "metadata": {},
   "source": [
    "Autism, also known as Autism Spectrum Disorder (ASD), is a neurodevelopmental condition characterized by challenges in social interaction, communication, and repetitive behaviors. Individuals with autism may exhibit a wide range of abilities and symptoms, forming a spectrum. Understanding and accurately classifying autism can be a complex task due to the diversity within the spectrum. Machine Learning (ML) plays a vital role in addressing this challenge by leveraging algorithms to analyze patterns and make predictions based on data."
   ]
  },
  {
   "cell_type": "markdown",
   "metadata": {},
   "source": [
    "## Data\n",
    "\n",
    "ID - ID of the patient\n",
    "\n",
    "A1_Score to A10_Score - Score based on Autism Spectrum Quotient (AQ) 10 item screening tool\n",
    "\n",
    "age - Age of the patient in years\n",
    "\n",
    "gender - Gender of the patient\n",
    "\n",
    "ethnicity - Ethnicity of the patient\n",
    "\n",
    "jaundice - Whether the patient had jaundice at the time of birth\n",
    "\n",
    "autism - Whether an immediate family member has been diagnosed with autism\n",
    "\n",
    "contry_of_res - Country of residence of the patient\n",
    "\n",
    "used_app_before - Whether the patient has undergone a screening test before\n",
    "\n",
    "result - Score for AQ1-10 screening test\n",
    "\n",
    "age_desc - Age of the patient\n",
    "\n",
    "relation - Relation of patient who completed the test\n",
    "\n",
    "Class/ASD - Classified result as 0 or 1. Here 0 represents No and 1 represents Yes. This is the target column, and during submission submit the values as 0 or 1 only."
   ]
  },
  {
   "cell_type": "code",
   "execution_count": 1,
   "metadata": {},
   "outputs": [
    {
     "ename": "KeyboardInterrupt",
     "evalue": "",
     "output_type": "error",
     "traceback": [
      "\u001b[1;31m---------------------------------------------------------------------------\u001b[0m",
      "\u001b[1;31mKeyboardInterrupt\u001b[0m                         Traceback (most recent call last)",
      "Cell \u001b[1;32mIn[1], line 2\u001b[0m\n\u001b[0;32m      1\u001b[0m \u001b[38;5;28;01mimport\u001b[39;00m \u001b[38;5;21;01mnumpy\u001b[39;00m \u001b[38;5;28;01mas\u001b[39;00m \u001b[38;5;21;01mnp\u001b[39;00m\n\u001b[1;32m----> 2\u001b[0m \u001b[38;5;28;01mimport\u001b[39;00m \u001b[38;5;21;01mpandas\u001b[39;00m \u001b[38;5;28;01mas\u001b[39;00m \u001b[38;5;21;01mpd\u001b[39;00m\n\u001b[0;32m      3\u001b[0m \u001b[38;5;28;01mimport\u001b[39;00m \u001b[38;5;21;01mmatplotlib\u001b[39;00m\u001b[38;5;21;01m.\u001b[39;00m\u001b[38;5;21;01mpyplot\u001b[39;00m \u001b[38;5;28;01mas\u001b[39;00m \u001b[38;5;21;01mplt\u001b[39;00m\n\u001b[0;32m      4\u001b[0m \u001b[38;5;28;01mimport\u001b[39;00m \u001b[38;5;21;01mseaborn\u001b[39;00m \u001b[38;5;28;01mas\u001b[39;00m \u001b[38;5;21;01msns\u001b[39;00m\n",
      "File \u001b[1;32m~\\AppData\\Local\\Programs\\Python\\Python312\\Lib\\site-packages\\pandas\\__init__.py:62\u001b[0m\n\u001b[0;32m     59\u001b[0m \u001b[38;5;66;03m# let init-time option registration happen\u001b[39;00m\n\u001b[0;32m     60\u001b[0m \u001b[38;5;28;01mimport\u001b[39;00m \u001b[38;5;21;01mpandas\u001b[39;00m\u001b[38;5;21;01m.\u001b[39;00m\u001b[38;5;21;01mcore\u001b[39;00m\u001b[38;5;21;01m.\u001b[39;00m\u001b[38;5;21;01mconfig_init\u001b[39;00m  \u001b[38;5;66;03m# pyright: ignore[reportUnusedImport] # noqa: F401\u001b[39;00m\n\u001b[1;32m---> 62\u001b[0m \u001b[38;5;28;01mfrom\u001b[39;00m \u001b[38;5;21;01mpandas\u001b[39;00m\u001b[38;5;21;01m.\u001b[39;00m\u001b[38;5;21;01mcore\u001b[39;00m\u001b[38;5;21;01m.\u001b[39;00m\u001b[38;5;21;01mapi\u001b[39;00m \u001b[38;5;28;01mimport\u001b[39;00m (\n\u001b[0;32m     63\u001b[0m     \u001b[38;5;66;03m# dtype\u001b[39;00m\n\u001b[0;32m     64\u001b[0m     ArrowDtype,\n\u001b[0;32m     65\u001b[0m     Int8Dtype,\n\u001b[0;32m     66\u001b[0m     Int16Dtype,\n\u001b[0;32m     67\u001b[0m     Int32Dtype,\n\u001b[0;32m     68\u001b[0m     Int64Dtype,\n\u001b[0;32m     69\u001b[0m     UInt8Dtype,\n\u001b[0;32m     70\u001b[0m     UInt16Dtype,\n\u001b[0;32m     71\u001b[0m     UInt32Dtype,\n\u001b[0;32m     72\u001b[0m     UInt64Dtype,\n\u001b[0;32m     73\u001b[0m     Float32Dtype,\n\u001b[0;32m     74\u001b[0m     Float64Dtype,\n\u001b[0;32m     75\u001b[0m     CategoricalDtype,\n\u001b[0;32m     76\u001b[0m     PeriodDtype,\n\u001b[0;32m     77\u001b[0m     IntervalDtype,\n\u001b[0;32m     78\u001b[0m     DatetimeTZDtype,\n\u001b[0;32m     79\u001b[0m     StringDtype,\n\u001b[0;32m     80\u001b[0m     BooleanDtype,\n\u001b[0;32m     81\u001b[0m     \u001b[38;5;66;03m# missing\u001b[39;00m\n\u001b[0;32m     82\u001b[0m     NA,\n\u001b[0;32m     83\u001b[0m     isna,\n\u001b[0;32m     84\u001b[0m     isnull,\n\u001b[0;32m     85\u001b[0m     notna,\n\u001b[0;32m     86\u001b[0m     notnull,\n\u001b[0;32m     87\u001b[0m     \u001b[38;5;66;03m# indexes\u001b[39;00m\n\u001b[0;32m     88\u001b[0m     Index,\n\u001b[0;32m     89\u001b[0m     CategoricalIndex,\n\u001b[0;32m     90\u001b[0m     RangeIndex,\n\u001b[0;32m     91\u001b[0m     MultiIndex,\n\u001b[0;32m     92\u001b[0m     IntervalIndex,\n\u001b[0;32m     93\u001b[0m     TimedeltaIndex,\n\u001b[0;32m     94\u001b[0m     DatetimeIndex,\n\u001b[0;32m     95\u001b[0m     PeriodIndex,\n\u001b[0;32m     96\u001b[0m     IndexSlice,\n\u001b[0;32m     97\u001b[0m     \u001b[38;5;66;03m# tseries\u001b[39;00m\n\u001b[0;32m     98\u001b[0m     NaT,\n\u001b[0;32m     99\u001b[0m     Period,\n\u001b[0;32m    100\u001b[0m     period_range,\n\u001b[0;32m    101\u001b[0m     Timedelta,\n\u001b[0;32m    102\u001b[0m     timedelta_range,\n\u001b[0;32m    103\u001b[0m     Timestamp,\n\u001b[0;32m    104\u001b[0m     date_range,\n\u001b[0;32m    105\u001b[0m     bdate_range,\n\u001b[0;32m    106\u001b[0m     Interval,\n\u001b[0;32m    107\u001b[0m     interval_range,\n\u001b[0;32m    108\u001b[0m     DateOffset,\n\u001b[0;32m    109\u001b[0m     \u001b[38;5;66;03m# conversion\u001b[39;00m\n\u001b[0;32m    110\u001b[0m     to_numeric,\n\u001b[0;32m    111\u001b[0m     to_datetime,\n\u001b[0;32m    112\u001b[0m     to_timedelta,\n\u001b[0;32m    113\u001b[0m     \u001b[38;5;66;03m# misc\u001b[39;00m\n\u001b[0;32m    114\u001b[0m     Flags,\n\u001b[0;32m    115\u001b[0m     Grouper,\n\u001b[0;32m    116\u001b[0m     factorize,\n\u001b[0;32m    117\u001b[0m     unique,\n\u001b[0;32m    118\u001b[0m     value_counts,\n\u001b[0;32m    119\u001b[0m     NamedAgg,\n\u001b[0;32m    120\u001b[0m     array,\n\u001b[0;32m    121\u001b[0m     Categorical,\n\u001b[0;32m    122\u001b[0m     set_eng_float_format,\n\u001b[0;32m    123\u001b[0m     Series,\n\u001b[0;32m    124\u001b[0m     DataFrame,\n\u001b[0;32m    125\u001b[0m )\n\u001b[0;32m    127\u001b[0m \u001b[38;5;28;01mfrom\u001b[39;00m \u001b[38;5;21;01mpandas\u001b[39;00m\u001b[38;5;21;01m.\u001b[39;00m\u001b[38;5;21;01mcore\u001b[39;00m\u001b[38;5;21;01m.\u001b[39;00m\u001b[38;5;21;01mdtypes\u001b[39;00m\u001b[38;5;21;01m.\u001b[39;00m\u001b[38;5;21;01mdtypes\u001b[39;00m \u001b[38;5;28;01mimport\u001b[39;00m SparseDtype\n\u001b[0;32m    129\u001b[0m \u001b[38;5;28;01mfrom\u001b[39;00m \u001b[38;5;21;01mpandas\u001b[39;00m\u001b[38;5;21;01m.\u001b[39;00m\u001b[38;5;21;01mtseries\u001b[39;00m\u001b[38;5;21;01m.\u001b[39;00m\u001b[38;5;21;01mapi\u001b[39;00m \u001b[38;5;28;01mimport\u001b[39;00m infer_freq\n",
      "File \u001b[1;32m~\\AppData\\Local\\Programs\\Python\\Python312\\Lib\\site-packages\\pandas\\core\\api.py:1\u001b[0m\n\u001b[1;32m----> 1\u001b[0m \u001b[38;5;28;01mfrom\u001b[39;00m \u001b[38;5;21;01mpandas\u001b[39;00m\u001b[38;5;21;01m.\u001b[39;00m\u001b[38;5;21;01m_libs\u001b[39;00m \u001b[38;5;28;01mimport\u001b[39;00m (\n\u001b[0;32m      2\u001b[0m     NaT,\n\u001b[0;32m      3\u001b[0m     Period,\n\u001b[0;32m      4\u001b[0m     Timedelta,\n\u001b[0;32m      5\u001b[0m     Timestamp,\n\u001b[0;32m      6\u001b[0m )\n\u001b[0;32m      7\u001b[0m \u001b[38;5;28;01mfrom\u001b[39;00m \u001b[38;5;21;01mpandas\u001b[39;00m\u001b[38;5;21;01m.\u001b[39;00m\u001b[38;5;21;01m_libs\u001b[39;00m\u001b[38;5;21;01m.\u001b[39;00m\u001b[38;5;21;01mmissing\u001b[39;00m \u001b[38;5;28;01mimport\u001b[39;00m NA\n\u001b[0;32m      9\u001b[0m \u001b[38;5;28;01mfrom\u001b[39;00m \u001b[38;5;21;01mpandas\u001b[39;00m\u001b[38;5;21;01m.\u001b[39;00m\u001b[38;5;21;01mcore\u001b[39;00m\u001b[38;5;21;01m.\u001b[39;00m\u001b[38;5;21;01mdtypes\u001b[39;00m\u001b[38;5;21;01m.\u001b[39;00m\u001b[38;5;21;01mdtypes\u001b[39;00m \u001b[38;5;28;01mimport\u001b[39;00m (\n\u001b[0;32m     10\u001b[0m     ArrowDtype,\n\u001b[0;32m     11\u001b[0m     CategoricalDtype,\n\u001b[1;32m   (...)\u001b[0m\n\u001b[0;32m     14\u001b[0m     PeriodDtype,\n\u001b[0;32m     15\u001b[0m )\n",
      "File \u001b[1;32m~\\AppData\\Local\\Programs\\Python\\Python312\\Lib\\site-packages\\pandas\\_libs\\__init__.py:18\u001b[0m\n\u001b[0;32m     16\u001b[0m \u001b[38;5;28;01mimport\u001b[39;00m \u001b[38;5;21;01mpandas\u001b[39;00m\u001b[38;5;21;01m.\u001b[39;00m\u001b[38;5;21;01m_libs\u001b[39;00m\u001b[38;5;21;01m.\u001b[39;00m\u001b[38;5;21;01mpandas_parser\u001b[39;00m  \u001b[38;5;66;03m# isort: skip # type: ignore[reportUnusedImport]\u001b[39;00m\n\u001b[0;32m     17\u001b[0m \u001b[38;5;28;01mimport\u001b[39;00m \u001b[38;5;21;01mpandas\u001b[39;00m\u001b[38;5;21;01m.\u001b[39;00m\u001b[38;5;21;01m_libs\u001b[39;00m\u001b[38;5;21;01m.\u001b[39;00m\u001b[38;5;21;01mpandas_datetime\u001b[39;00m  \u001b[38;5;66;03m# noqa: F401 # isort: skip # type: ignore[reportUnusedImport]\u001b[39;00m\n\u001b[1;32m---> 18\u001b[0m \u001b[38;5;28;01mfrom\u001b[39;00m \u001b[38;5;21;01mpandas\u001b[39;00m\u001b[38;5;21;01m.\u001b[39;00m\u001b[38;5;21;01m_libs\u001b[39;00m\u001b[38;5;21;01m.\u001b[39;00m\u001b[38;5;21;01minterval\u001b[39;00m \u001b[38;5;28;01mimport\u001b[39;00m Interval\n\u001b[0;32m     19\u001b[0m \u001b[38;5;28;01mfrom\u001b[39;00m \u001b[38;5;21;01mpandas\u001b[39;00m\u001b[38;5;21;01m.\u001b[39;00m\u001b[38;5;21;01m_libs\u001b[39;00m\u001b[38;5;21;01m.\u001b[39;00m\u001b[38;5;21;01mtslibs\u001b[39;00m \u001b[38;5;28;01mimport\u001b[39;00m (\n\u001b[0;32m     20\u001b[0m     NaT,\n\u001b[0;32m     21\u001b[0m     NaTType,\n\u001b[1;32m   (...)\u001b[0m\n\u001b[0;32m     26\u001b[0m     iNaT,\n\u001b[0;32m     27\u001b[0m )\n",
      "File \u001b[1;32minterval.pyx:1\u001b[0m, in \u001b[0;36minit pandas._libs.interval\u001b[1;34m()\u001b[0m\n",
      "File \u001b[1;32mhashtable.pyx:1\u001b[0m, in \u001b[0;36minit pandas._libs.hashtable\u001b[1;34m()\u001b[0m\n",
      "File \u001b[1;32mmissing.pyx:1\u001b[0m, in \u001b[0;36minit pandas._libs.missing\u001b[1;34m()\u001b[0m\n",
      "File \u001b[1;32m~\\AppData\\Local\\Programs\\Python\\Python312\\Lib\\site-packages\\pandas\\_libs\\tslibs\\__init__.py:40\u001b[0m\n\u001b[0;32m      1\u001b[0m __all__ \u001b[38;5;241m=\u001b[39m [\n\u001b[0;32m      2\u001b[0m     \u001b[38;5;124m\"\u001b[39m\u001b[38;5;124mdtypes\u001b[39m\u001b[38;5;124m\"\u001b[39m,\n\u001b[0;32m      3\u001b[0m     \u001b[38;5;124m\"\u001b[39m\u001b[38;5;124mlocalize_pydatetime\u001b[39m\u001b[38;5;124m\"\u001b[39m,\n\u001b[1;32m   (...)\u001b[0m\n\u001b[0;32m     36\u001b[0m     \u001b[38;5;124m\"\u001b[39m\u001b[38;5;124mis_supported_dtype\u001b[39m\u001b[38;5;124m\"\u001b[39m,\n\u001b[0;32m     37\u001b[0m ]\n\u001b[0;32m     39\u001b[0m \u001b[38;5;28;01mfrom\u001b[39;00m \u001b[38;5;21;01mpandas\u001b[39;00m\u001b[38;5;21;01m.\u001b[39;00m\u001b[38;5;21;01m_libs\u001b[39;00m\u001b[38;5;21;01m.\u001b[39;00m\u001b[38;5;21;01mtslibs\u001b[39;00m \u001b[38;5;28;01mimport\u001b[39;00m dtypes  \u001b[38;5;66;03m# pylint: disable=import-self\u001b[39;00m\n\u001b[1;32m---> 40\u001b[0m \u001b[38;5;28;01mfrom\u001b[39;00m \u001b[38;5;21;01mpandas\u001b[39;00m\u001b[38;5;21;01m.\u001b[39;00m\u001b[38;5;21;01m_libs\u001b[39;00m\u001b[38;5;21;01m.\u001b[39;00m\u001b[38;5;21;01mtslibs\u001b[39;00m\u001b[38;5;21;01m.\u001b[39;00m\u001b[38;5;21;01mconversion\u001b[39;00m \u001b[38;5;28;01mimport\u001b[39;00m localize_pydatetime\n\u001b[0;32m     41\u001b[0m \u001b[38;5;28;01mfrom\u001b[39;00m \u001b[38;5;21;01mpandas\u001b[39;00m\u001b[38;5;21;01m.\u001b[39;00m\u001b[38;5;21;01m_libs\u001b[39;00m\u001b[38;5;21;01m.\u001b[39;00m\u001b[38;5;21;01mtslibs\u001b[39;00m\u001b[38;5;21;01m.\u001b[39;00m\u001b[38;5;21;01mdtypes\u001b[39;00m \u001b[38;5;28;01mimport\u001b[39;00m (\n\u001b[0;32m     42\u001b[0m     Resolution,\n\u001b[0;32m     43\u001b[0m     periods_per_day,\n\u001b[0;32m     44\u001b[0m     periods_per_second,\n\u001b[0;32m     45\u001b[0m )\n\u001b[0;32m     46\u001b[0m \u001b[38;5;28;01mfrom\u001b[39;00m \u001b[38;5;21;01mpandas\u001b[39;00m\u001b[38;5;21;01m.\u001b[39;00m\u001b[38;5;21;01m_libs\u001b[39;00m\u001b[38;5;21;01m.\u001b[39;00m\u001b[38;5;21;01mtslibs\u001b[39;00m\u001b[38;5;21;01m.\u001b[39;00m\u001b[38;5;21;01mnattype\u001b[39;00m \u001b[38;5;28;01mimport\u001b[39;00m (\n\u001b[0;32m     47\u001b[0m     NaT,\n\u001b[0;32m     48\u001b[0m     NaTType,\n\u001b[0;32m     49\u001b[0m     iNaT,\n\u001b[0;32m     50\u001b[0m     nat_strings,\n\u001b[0;32m     51\u001b[0m )\n",
      "File \u001b[1;32mconversion.pyx:1\u001b[0m, in \u001b[0;36minit pandas._libs.tslibs.conversion\u001b[1;34m()\u001b[0m\n",
      "File \u001b[1;32moffsets.pyx:35\u001b[0m, in \u001b[0;36minit pandas._libs.tslibs.offsets\u001b[1;34m()\u001b[0m\n",
      "File \u001b[1;32m<frozen importlib._bootstrap>:645\u001b[0m, in \u001b[0;36mparent\u001b[1;34m(self)\u001b[0m\n",
      "\u001b[1;31mKeyboardInterrupt\u001b[0m: "
     ]
    }
   ],
   "source": [
    "import numpy as np\n",
    "import pandas as pd\n",
    "import matplotlib.pyplot as plt\n",
    "import seaborn as sns\n",
    "\n",
    "from sklearn.model_selection import train_test_split\n",
    "from sklearn.preprocessing import StandardScaler\n",
    "from sklearn.metrics import confusion_matrix, accuracy_score, classification_report, roc_auc_score, roc_curve\n",
    "from keras.models import Sequential\n",
    "from keras.layers import Dense\n",
    "from sklearn.ensemble import RandomForestClassifier\n",
    "from deap import base, creator, tools, algorithms"
   ]
  },
  {
   "cell_type": "code",
   "execution_count": null,
   "metadata": {},
   "outputs": [],
   "source": [
    "train=pd.read_csv(r\"train.csv\")\n",
    "test=pd.read_csv(r\"test.csv\")\n"
   ]
  },
  {
   "cell_type": "code",
   "execution_count": null,
   "metadata": {},
   "outputs": [],
   "source": [
    "train.tail()"
   ]
  },
  {
   "cell_type": "code",
   "execution_count": null,
   "metadata": {},
   "outputs": [],
   "source": [
    "train.describe()"
   ]
  },
  {
   "cell_type": "code",
   "execution_count": null,
   "metadata": {
    "scrolled": true
   },
   "outputs": [],
   "source": [
    "train.isna().sum()"
   ]
  },
  {
   "cell_type": "markdown",
   "metadata": {},
   "source": [
    "# visualization"
   ]
  },
  {
   "cell_type": "code",
   "execution_count": null,
   "metadata": {},
   "outputs": [],
   "source": [
    "autism_map = {1: 'Autist', 0: 'Non Autist'}\n",
    "autism_colors = ['red', 'green']\n",
    "\n",
    "total_count = len(train)\n",
    "autist_count = train['Class/ASD'].sum()\n",
    "non_autist_count = total_count - autist_count\n",
    "\n",
    "autist_percent = autist_count / total_count * 100\n",
    "non_autist_percent = non_autist_count / total_count * 100\n",
    "\n",
    "fig, ax = plt.subplots()\n",
    "\n",
    "ax.pie([autist_percent, non_autist_percent], labels=[f'Autist ({autist_percent:.2f}%)', f'Non Autist ({non_autist_percent:.2f}%)'],\n",
    "       autopct='%1.1f%%', startangle=90, colors=autism_colors, wedgeprops=dict(width=0.4, edgecolor='w'))\n",
    "\n",
    "centre_circle = plt.Circle((0,0),0.80,fc='white')\n",
    "fig = plt.gcf()\n",
    "fig.gca().add_artist(centre_circle)\n",
    "\n",
    "# Equal aspect ratio ensures that pie is drawn as a circle.\n",
    "ax.axis('equal')  \n",
    "\n",
    "plt.title('Total and Percentual of Autism Spectrum Disorder (ASD)')\n",
    "plt.show()\n"
   ]
  },
  {
   "cell_type": "code",
   "execution_count": null,
   "metadata": {},
   "outputs": [],
   "source": [
    "autist_count = train['Class/ASD'].sum()\n",
    "non_autist_count = len(train) - autist_countdata:image/png;base64,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\n",
    "\n",
    "fig, ax = plt.subplots()\n",
    "\n",
    "ax.bar(['Autist', 'Non Autist'], [autist_count, non_autist_count], color=['crimson', 'darkslateblue'])\n",
    "\n",
    "plt.title('Total and Percentual of Autism Spectrum Disorder (ASD)')\n",
    "plt.show()\n"
   ]
  },
  {
   "cell_type": "code",
   "execution_count": null,
   "metadata": {},
   "outputs": [],
   "source": [
    "train[\"ethnicity\"].value_counts()"
   ]
  },
  {
   "cell_type": "code",
   "execution_count": null,
   "metadata": {},
   "outputs": [],
   "source": [
    "# Define colors for each ethnicity\n",
    "ethnicity_colors = ['chartreuse', 'coral', 'magenta', 'dodgerblue', 'darkgreen', 'darkorchid', 'brown', 'BlueViolet', 'cyan', 'coral', 'Turquoise', 'Gold']\n",
    "\n",
    "# Plotting the donut chart for ethnicity\n",
    "fig, ax = plt.subplots(figsize=(10, 10))\n",
    "\n",
    "# Extract ethnicity counts from the DataFrame\n",
    "ethnicity_counts = train['ethnicity'].value_counts()\n",
    "\n",
    "# Draw the donut chart\n",
    "ax.pie(ethnicity_counts, labels=ethnicity_counts.index, autopct='%1.1f%%', startangle=90,\n",
    "       colors=ethnicity_colors, wedgeprops=dict(width=0.4, edgecolor='w'))\n",
    "\n",
    "# Draw a circle at the center to make it a donut chart\n",
    "centre_circle = plt.Circle((0, 0), 0.70, fc='white')\n",
    "fig = plt.gcf()\n",
    "fig.gca().add_artist(centre_circle)\n",
    "\n",
    "# Equal aspect ratio ensures that pie is drawn as a circle.\n",
    "ax.axis('equal')\n",
    "\n",
    "plt.title('Autism by Ethnicity')\n",
    "plt.show()\n"
   ]
  },
  {
   "cell_type": "code",
   "execution_count": null,
   "metadata": {},
   "outputs": [],
   "source": [
    "# Define colors for each class\n",
    "class_colors = {0: 'lightskyblue', 1: 'lightcoral'}\n",
    "\n",
    "# Plotting the relationship between Gender and Class/ASD with count and percentage\n",
    "plt.figure(figsize=(10, 6))\n",
    "ax = sns.countplot(x='gender', hue='Class/ASD', data=train, palette=class_colors)\n",
    "\n",
    "# Adding annotations with count and percentage\n",
    "total_count = len(train)\n",
    "for p in ax.patches:\n",
    "    height = p.get_height()\n",
    "    ax.text(p.get_x() + p.get_width() / 2, height + 1, f'{height}\\n({height / total_count * 100:.1f}%)',\n",
    "            ha='center', va='bottom', fontweight='bold')\n",
    "\n",
    "# Setting labels and title\n",
    "plt.xlabel('Gender')\n",
    "plt.ylabel('Count')\n",
    "plt.title('Relationship between Gender and Autism Spectrum Disorder (ASD)')\n",
    "\n",
    "# Change legend labels\n",
    "ax.legend(title='Class/ASD', labels=['No Autism', 'Autism'])\n",
    "\n",
    "# Display the plot\n",
    "plt.show()\n"
   ]
  },
  {
   "cell_type": "code",
   "execution_count": null,
   "metadata": {},
   "outputs": [],
   "source": [
    "# Define colors for each class\n",
    "jaundice_colors = ['crimson', 'coral']\n",
    "jaundice_map = {'yes': 'Jaundice', 'no': 'No Jaundice'}\n",
    "\n",
    "# Plotting the relationship between Jaundice and Class/ASD with count and percentage\n",
    "plt.figure(figsize=(10, 6))\n",
    "ax = sns.countplot(x='jaundice', hue='Class/ASD', data=train, palette=jaundice_colors)\n",
    "\n",
    "# Adding annotations with count and percentage\n",
    "total_count = len(train)\n",
    "for p in ax.patches:\n",
    "    height = p.get_height()\n",
    "    ax.text(p.get_x() + p.get_width() / 2, height + 1, f'{height}\\n({height / total_count * 100:.1f}%)',\n",
    "            ha='center', va='bottom', fontweight='bold')\n",
    "\n",
    "# Setting labels and title\n",
    "plt.xlabel('Jaundice')\n",
    "plt.ylabel('Count')\n",
    "plt.title('Jaundice linked to Autism Spectrum Disorder (ASD)')\n",
    "\n",
    "# Change legend labels\n",
    "ax.legend(title='Class/ASD', labels=['No Autism', 'Autism'])\n",
    "\n",
    "# Display the plot\n",
    "plt.show()\n"
   ]
  },
  {
   "cell_type": "code",
   "execution_count": null,
   "metadata": {},
   "outputs": [],
   "source": [
    "# Define colors for each class\n",
    "used_app_colors = ['mediumseagreen', 'tomato']\n",
    "used_app_map = {'yes': 'Used App Before', 'no': 'No App Usage'}\n",
    "\n",
    "# Plotting the relationship between Used App Before and Class/ASD with count and percentage\n",
    "plt.figure(figsize=(10, 6))\n",
    "ax = sns.countplot(x='used_app_before', hue='Class/ASD', data=train, palette=used_app_colors)\n",
    "\n",
    "# Adding annotations with count and percentage\n",
    "total_count = len(train)\n",
    "for p in ax.patches:\n",
    "    height = p.get_height()\n",
    "    ax.text(p.get_x() + p.get_width() / 2, height + 1, f'{height}\\n({height / total_count * 100:.1f}%)',\n",
    "            ha='center', va='bottom', fontweight='bold')\n",
    "\n",
    "# Setting labels and title\n",
    "plt.xlabel('Used App Before')\n",
    "plt.ylabel('Count')\n",
    "plt.title('Used App Before linked to Autism Spectrum Disorder (ASD)')\n",
    "\n",
    "# Change legend labels\n",
    "ax.legend(title='Class/ASD', labels=['No Autism', 'Autism'])\n",
    "\n",
    "# Display the plot\n",
    "plt.show()\n"
   ]
  },
  {
   "cell_type": "code",
   "execution_count": null,
   "metadata": {},
   "outputs": [],
   "source": [
    "# Plotting the relationship between age distribution and Class/ASD\n",
    "plt.figure(figsize=(12, 8))\n",
    "g = sns.FacetGrid(train, col='Class/ASD', hue='Class/ASD', height=6)\n",
    "g.map(sns.kdeplot, 'age', fill=True)\n",
    "g.add_legend()\n",
    "\n",
    "# Setting labels and title\n",
    "plt.subplots_adjust(top=0.9)\n",
    "g.fig.suptitle('Relationship between Age Distribution and Autism Spectrum Disorder (ASD)')\n",
    "\n",
    "# Display the plot\n",
    "plt.show()\n"
   ]
  },
  {
   "cell_type": "markdown",
   "metadata": {},
   "source": [
    "# Preprocessing"
   ]
  },
  {
   "cell_type": "markdown",
   "metadata": {},
   "source": [
    "### 1.Data dosen't have a null value"
   ]
  },
  {
   "cell_type": "markdown",
   "metadata": {},
   "source": [
    "### 2.Data Encoding"
   ]
  },
  {
   "cell_type": "code",
   "execution_count": null,
   "metadata": {},
   "outputs": [],
   "source": [
    "train.head()"
   ]
  },
  {
   "cell_type": "code",
   "execution_count": null,
   "metadata": {},
   "outputs": [],
   "source": [
    "cat = {'ethnicity':'category',\n",
    "       'gender':'category', \n",
    "       'jaundice':'category',\n",
    "       'austim':'category',\n",
    "       'contry_of_res':'category', \n",
    "       'used_app_before':'category',\n",
    "        'age_desc':'category',\n",
    "        'relation':'category'}\n",
    "test = test.astype(cat)\n",
    "train = train.astype(cat)"
   ]
  },
  {
   "cell_type": "code",
   "execution_count": null,
   "metadata": {},
   "outputs": [],
   "source": [
    "cat_columns = ['ethnicity', 'gender', 'jaundice', 'austim', 'contry_of_res', 'used_app_before', 'age_desc', 'relation']\n",
    "\n",
    "for col in cat_columns:\n",
    "    train[col] = train[col].cat.codes\n",
    "    test[col] = test[col].cat.codes\n"
   ]
  },
  {
   "cell_type": "code",
   "execution_count": null,
   "metadata": {},
   "outputs": [],
   "source": [
    "train.head()"
   ]
  },
  {
   "cell_type": "code",
   "execution_count": null,
   "metadata": {
    "scrolled": true
   },
   "outputs": [],
   "source": [
    "print(train.dtypes)"
   ]
  },
  {
   "cell_type": "markdown",
   "metadata": {},
   "source": [
    "### 3.Drob unusiful data"
   ]
  },
  {
   "cell_type": "code",
   "execution_count": null,
   "metadata": {},
   "outputs": [],
   "source": [
    "train=train.drop('ID', axis=1)\n",
    "train=train.drop('relation', axis=1)"
   ]
  },
  {
   "cell_type": "markdown",
   "metadata": {},
   "source": [
    "### 4.Split Data"
   ]
  },
  {
   "cell_type": "code",
   "execution_count": null,
   "metadata": {},
   "outputs": [],
   "source": [
    "X = train.drop('Class/ASD', axis=1)\n",
    "y = train['Class/ASD']\n",
    "X_train, X_val, y_train, y_val = train_test_split(X, y, test_size=0.2, random_state=42)"
   ]
  },
  {
   "cell_type": "markdown",
   "metadata": {},
   "source": [
    "### 5.Standard Scaler\n"
   ]
  },
  {
   "cell_type": "code",
   "execution_count": null,
   "metadata": {},
   "outputs": [],
   "source": [
    "scaler = StandardScaler()\n",
    "X_train = scaler.fit_transform(X_train)\n",
    "X_val = scaler.transform(X_val)"
   ]
  },
  {
   "cell_type": "markdown",
   "metadata": {},
   "source": [
    "# Classification"
   ]
  },
  {
   "cell_type": "markdown",
   "metadata": {},
   "source": [
    "## 1.Random Forest"
   ]
  },
  {
   "cell_type": "code",
   "execution_count": null,
   "metadata": {},
   "outputs": [],
   "source": [
    "# Define the evaluation function\n",
    "def evaluate(ind):\n",
    "    n_estimators, max_depth = ind\n",
    "    n_estimators = max(1, int(n_estimators))\n",
    "    max_depth = max(1, int(max_depth)) if max_depth is not None else None\n",
    "    # Build the random forest classifier\n",
    "    classifier = RandomForestClassifier(n_estimators=n_estimators, max_depth=max_depth, random_state=42)\n",
    "    \n",
    "    # Train the classifier on the training data\n",
    "    classifier.fit(X_train, y_train)\n",
    "\n",
    "    # Make predictions on the validation data\n",
    "    y_pred = classifier.predict(X_val)\n",
    "\n",
    "    # Evaluate the model\n",
    "    accuracy = accuracy_score(y_val, y_pred)\n",
    "\n",
    "    # Return accuracy as the fitness value\n",
    "    return accuracy,\n",
    "\n",
    "# Define Genetic Algorithm parameters\n",
    "creator.create(\"FitnessMax\", base.Fitness, weights=(1.0,))\n",
    "creator.create(\"Individual\", list, fitness=creator.FitnessMax)\n",
    "\n",
    "toolbox = base.Toolbox()\n",
    "toolbox.register(\"attr_float\", np.random.uniform, 1, 200)  # n_estimators range from 10 to 200\n",
    "toolbox.register(\"attr_int\", np.random.randint, 1, 20)  # max_depth range from 1 to 20\n",
    "\n",
    "toolbox.register(\"individual\", tools.initCycle, creator.Individual,\n",
    "                 (toolbox.attr_float, toolbox.attr_int),\n",
    "                 n=1)\n",
    "toolbox.register(\"population\", tools.initRepeat, list, toolbox.individual)\n",
    "toolbox.register(\"mate\", tools.cxBlend, alpha=0.5)\n",
    "toolbox.register(\"mutate\", tools.mutGaussian, mu=0, sigma=5, indpb=0.2)\n",
    "toolbox.register(\"select\", tools.selTournament, tournsize=3)\n",
    "toolbox.register(\"evaluate\", evaluate)\n",
    "\n",
    "# Create the initial population\n",
    "population = toolbox.population(n=10)\n",
    "\n",
    "# Run the Genetic Algorithm\n",
    "algorithm_result = algorithms.eaMuPlusLambda(population, toolbox, mu=10, lambda_=50, cxpb=0.7, mutpb=0.2, ngen=10, stats=None, halloffame=None)\n",
    "\n",
    "# Extract the best individual\n",
    "best_individual = tools.selBest(population, 1)[0]\n",
    "\n",
    "# Print the best individual's parameters\n",
    "print(\"Best Individual from Genetic Algorithm:\", best_individual)\n",
    "\n",
    "# Build the random forest classifier using the best parameters\n",
    "best_n_estimators, best_max_depth = best_individual\n",
    "best_classifier = RandomForestClassifier(n_estimators=int(best_n_estimators), max_depth=int(best_max_depth), random_state=42)\n",
    "\n",
    "# Train the classifier on the training data\n",
    "best_classifier.fit(X_train, y_train)\n",
    "\n",
    "# Make predictions on the validation data\n",
    "y_pred = best_classifier.predict(X_val)\n",
    "\n",
    "# Evaluate the model\n",
    "accuracy = accuracy_score(y_val, y_pred)\n",
    "\n",
    "# Print the accuracy of the model\n",
    "print(\"Accuracy of Random Forest Classifier with Best Parameters:\", accuracy)\n"
   ]
  },
  {
   "cell_type": "code",
   "execution_count": null,
   "metadata": {},
   "outputs": [],
   "source": [
    "classifier = RandomForestClassifier()\n",
    "\n",
    "# Train the classifier on the training data\n",
    "classifier.fit(X_train, y_train)\n",
    "\n",
    "# Make predictions on the test data\n",
    "y_pred = classifier.predict(X_val)\n"
   ]
  },
  {
   "cell_type": "code",
   "execution_count": null,
   "metadata": {},
   "outputs": [],
   "source": [
    "# Confusion Matrix\n",
    "conf_matrix = confusion_matrix(y_val, y_pred)\n",
    "print(\"Confusion Matrix:\")\n",
    "print(conf_matrix)\n",
    "\n",
    "# Accuracy\n",
    "accuracy = accuracy_score(y_val, y_pred)\n",
    "print(\"Accuracy:\", accuracy)\n",
    "\n",
    "# Classification Report\n",
    "class_report = classification_report(y_val, y_pred)\n",
    "print(\"Classification Report:\")\n",
    "print(class_report)"
   ]
  },
  {
   "cell_type": "code",
   "execution_count": null,
   "metadata": {},
   "outputs": [],
   "source": [
    "# ROC-AUC Score\n",
    "roc_auc = roc_auc_score(y_val, y_pred)\n",
    "print(\"ROC-AUC Score:\", roc_auc)\n",
    "\n",
    "# ROC Curve\n",
    "fpr, tpr, thresholds = roc_curve(y_val, y_pred)\n",
    "plt.figure(figsize=(10, 6))\n",
    "plt.plot(fpr, tpr, color='darkorange', lw=2, label='ROC curve (area = %0.2f)' % roc_auc)\n",
    "plt.plot([0, 1], [0, 1], color='navy', lw=2, linestyle='--')\n",
    "plt.xlabel('False Positive Rate')\n",
    "plt.ylabel('True Positive Rate')\n",
    "plt.title('Receiver Operating Characteristic (ROC) Curve')\n",
    "plt.legend(loc=\"lower right\")\n",
    "plt.show()"
   ]
  },
  {
   "cell_type": "markdown",
   "metadata": {},
   "source": [
    "## 2. ANN model"
   ]
  },
  {
   "cell_type": "code",
   "execution_count": null,
   "metadata": {},
   "outputs": [],
   "source": [
    "# Define the evaluation function\n",
    "def evaluate(ind):\n",
    "    units_1, units_2, epochs, batch_size = ind\n",
    "\n",
    "    # Build the neural network\n",
    "    model = Sequential()\n",
    "    model.add(Dense(units=units_1, activation='relu', input_dim=X_train.shape[1]))\n",
    "    model.add(Dense(units=units_2, activation='relu'))\n",
    "    model.add(Dense(units=1, activation='sigmoid'))\n",
    "    model.compile(optimizer='adam', loss='binary_crossentropy', metrics=['accuracy'])\n",
    "\n",
    "    # Train the model\n",
    "    model.fit(X_train, y_train, epochs=int(epochs), batch_size=int(batch_size), verbose=0)\n",
    "\n",
    "    # Evaluate the model\n",
    "    _, accuracy = model.evaluate(X_val, y_val, verbose=0)\n",
    "\n",
    "    # Return accuracy as the fitness value\n",
    "    return accuracy,\n",
    "\n",
    "# Define Genetic Algorithm parameters\n",
    "creator.create(\"FitnessMax\", base.Fitness, weights=(1.0,))\n",
    "creator.create(\"Individual\", list, fitness=creator.FitnessMax)\n",
    "\n",
    "toolbox = base.Toolbox()\n",
    "toolbox.register(\"attr_int\", np.random.randint, 5, 50)  # Units range from 5 to 50\n",
    "toolbox.register(\"attr_epochs\", np.random.randint, 10, 100)  # Number of epochs range from 10 to 100\n",
    "toolbox.register(\"attr_batch_size\", np.random.choice, [8, 16, 32, 64])  # Batch size options\n",
    "\n",
    "toolbox.register(\"individual\", tools.initCycle, creator.Individual,\n",
    "                 (toolbox.attr_int, toolbox.attr_int, toolbox.attr_epochs, toolbox.attr_batch_size),\n",
    "                 n=1)\n",
    "toolbox.register(\"population\", tools.initRepeat, list, toolbox.individual)\n",
    "toolbox.register(\"mate\", tools.cxTwoPoint)\n",
    "toolbox.register(\"mutate\", tools.mutGaussian, mu=0, sigma=5, indpb=0.2)\n",
    "toolbox.register(\"select\", tools.selTournament, tournsize=3)\n",
    "toolbox.register(\"evaluate\", evaluate)\n",
    "\n",
    "# Create the initial population\n",
    "population = toolbox.population(n=10)\n",
    "\n",
    "# Run the Genetic Algorithm\n",
    "algorithm_result = algorithms.eaMuPlusLambda(population, toolbox, mu=10, lambda_=50, cxpb=0.7, mutpb=0.2, ngen=10, stats=None, halloffame=None)\n",
    "\n",
    "# Extract the best individual\n",
    "best_individual = tools.selBest(population, 1)[0]\n",
    "\n",
    "# Print the best individual's parameters\n",
    "print(\"Best Individual:\", best_individual)\n",
    "\n",
    "# Build the neural network with the best individual's parameters\n",
    "best_units_1, best_units_2, best_epochs, best_batch_size = map(abs, best_individual)\n",
    "\n",
    "classifier = Sequential()\n",
    "\n",
    "# Adding the input layer and the first hidden layer\n",
    "classifier.add(Dense(units=int(best_units_1), activation='relu', input_dim=X_train.shape[1]))\n",
    "\n",
    "# Adding the second hidden layer\n",
    "classifier.add(Dense(units=int(best_units_2), activation='relu'))\n",
    "\n",
    "# Adding the output layer\n",
    "classifier.add(Dense(units=1, activation='sigmoid'))\n",
    "\n",
    "# Compile the ANN\n",
    "classifier.compile(optimizer='adam', loss='binary_crossentropy', metrics=['accuracy'])\n",
    "\n",
    "# Train the ANN on the training data\n",
    "classifier.fit(X_train, y_train, batch_size=int(best_batch_size), epochs=int(best_epochs))\n",
    "\n",
    "# Make predictions on the validation data\n",
    "y_predict = classifier.predict(X_val)\n",
    "y_predict = (y_predict > 0.5)\n"
   ]
  },
  {
   "cell_type": "code",
   "execution_count": null,
   "metadata": {},
   "outputs": [],
   "source": [
    "classifier = Sequential()\n",
    "\n",
    "# Adding the input layer and the first hidden layer\n",
    "classifier.add(Dense(units=20, activation='relu', input_dim=X_train.shape[1]))\n",
    "\n",
    "# Adding the second hidden layer\n",
    "classifier.add(Dense(units=21, activation='relu'))\n",
    "\n",
    "# Adding the output layer\n",
    "classifier.add(Dense(units=1, activation='sigmoid'))\n",
    "\n",
    "# Compile the ANN\n",
    "classifier.compile(optimizer='adam', loss='binary_crossentropy', metrics=['accuracy'])\n",
    "\n",
    "# Train the ANN on the training data\n",
    "classifier.fit(X_train, y_train, batch_size=32, epochs=50)\n",
    "\n",
    "# Make predictions on the validation data\n",
    "y_predict = classifier.predict(X_val)\n",
    "y_predict = (y_predict > 0.5)\n",
    "\n"
   ]
  },
  {
   "cell_type": "code",
   "execution_count": null,
   "metadata": {},
   "outputs": [],
   "source": [
    "# Evaluate the model\n",
    "conf_matrix = confusion_matrix(y_val, y_predict)\n",
    "print(\"Confusion Matrix:\")\n",
    "print(conf_matrix)\n",
    "\n",
    "accuracy = accuracy_score(y_val, y_predict)\n",
    "print(\"Accuracy:\", accuracy)\n",
    "\n",
    "class_report = classification_report(y_val, y_predict)\n",
    "print(\"Classification Report:\")\n",
    "print(class_report)"
   ]
  },
  {
   "cell_type": "code",
   "execution_count": null,
   "metadata": {},
   "outputs": [],
   "source": [
    "roc_auc = roc_auc_score(y_val, y_predict)\n",
    "print(\"ROC-AUC Score:\", roc_auc)\n",
    "\n",
    "# ROC Curve\n",
    "fpr, tpr, thresholds = roc_curve(y_val, y_predict)\n",
    "plt.figure(figsize=(10, 6))\n",
    "plt.plot(fpr, tpr, color='darkorange', lw=2, label='ROC curve (area = %0.2f)' % roc_auc)\n",
    "plt.plot([0, 1], [0, 1], color='navy', lw=2, linestyle='--')\n",
    "plt.xlabel('False Positive Rate')\n",
    "plt.ylabel('True Positive Rate')\n",
    "plt.title('Receiver Operating Characteristic (ROC) Curve')\n",
    "plt.legend(loc=\"lower right\")\n",
    "plt.show()\n"
   ]
  },
  {
   "cell_type": "code",
   "execution_count": null,
   "metadata": {},
   "outputs": [],
   "source": []
  }
 ],
 "metadata": {
  "kernelspec": {
   "display_name": "Python 3 (ipykernel)",
   "language": "python",
   "name": "python3"
  },
  "language_info": {
   "codemirror_mode": {
    "name": "ipython",
    "version": 3
   },
   "file_extension": ".py",
   "mimetype": "text/x-python",
   "name": "python",
   "nbconvert_exporter": "python",
   "pygments_lexer": "ipython3",
   "version": "3.12.2"
  }
 },
 "nbformat": 4,
 "nbformat_minor": 4
}
